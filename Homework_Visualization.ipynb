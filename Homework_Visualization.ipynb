{
 "cells": [
  {
   "cell_type": "code",
   "execution_count": null,
   "metadata": {
    "collapsed": false
   },
   "outputs": [],
   "source": [
    "import pandas as pd\n",
    "import seaborn as sns\n",
    "from __future__ import (absolute_import, division, print_function, unicode_literals)\n",
    "\n",
    "import warnings\n",
    "warnings.simplefilter('ignore')\n",
    "\n",
    "%pylab inline\n",
    "%config InlineBackend.figure_format = 'svg' \n",
    "\n",
    "from pylab import rcParams\n",
    "rcParams['figure.figsize'] = 6,3"
   ]
  },
  {
   "cell_type": "code",
   "execution_count": null,
   "metadata": {
    "collapsed": false
   },
   "outputs": [],
   "source": [
    "data_set = pd.read_csv('nba_2013.csv')\n",
    "data_set.shape"
   ]
  },
  {
   "cell_type": "code",
   "execution_count": null,
   "metadata": {
    "collapsed": false
   },
   "outputs": [],
   "source": [
    "data_set.dropna()\n",
    "data_set.shape"
   ]
  },
  {
   "cell_type": "code",
   "execution_count": null,
   "metadata": {
    "collapsed": false,
    "scrolled": false
   },
   "outputs": [],
   "source": [
    "data_set.info()"
   ]
  },
  {
   "cell_type": "code",
   "execution_count": null,
   "metadata": {
    "collapsed": false,
    "scrolled": true
   },
   "outputs": [],
   "source": [
    "data_set.head()"
   ]
  },
  {
   "cell_type": "markdown",
   "metadata": {},
   "source": [
    "###### (1) Строим гистограмму для визуализации распределения возраста игроков \n",
    "Используются переменная Age (Возраст) непрерывного типа.\n",
    "\n",
    "Использована гистограмма, т.к. только с её помощью можно отобразить графически частоту распределения непрерывной\n",
    "величины."
   ]
  },
  {
   "cell_type": "code",
   "execution_count": null,
   "metadata": {
    "collapsed": false
   },
   "outputs": [],
   "source": [
    "age_distr = data_set.age.hist(bins=20)\n",
    "age_distr.set_xlabel('Age')\n",
    "age_distr.set_ylabel('Number of players')\n",
    "age_distr.set_title('Players age distribution')"
   ]
  },
  {
   "cell_type": "markdown",
   "metadata": {},
   "source": [
    "###### (2) Строим блок диаграмм рассеивания и диаграмм распределения для визуальной оценки парных корреляций и распределений\n",
    "Использовались следующие переменые:\n",
    "\n",
    "mp - количество минут проведенных игроком за сезон на игровой площадке - переменная непрерывного типа.\n",
    "\n",
    "pts - количество набранных игроком за сезон очков - непрерывная переменная.\n",
    "\n",
    "gs - количество игр, в которых игрок выходил на поле с первой минуты - дискретная перемнная.\n",
    "\n",
    "Использовал этот тип графика т. к. позволяет отразить несколько парных корреляций сразу.\n"
   ]
  },
  {
   "cell_type": "code",
   "execution_count": null,
   "metadata": {
    "collapsed": false
   },
   "outputs": [],
   "source": [
    "sns.pairplot(data_set[['mp', 'pts', 'gs']])"
   ]
  },
  {
   "cell_type": "markdown",
   "metadata": {},
   "source": [
    "###### (3) Строим Buble chart. который будет отображать зависимость среднего времени нахождения игроков на площадке от  среднего возраста с доролнительным измерением по сумме набранных очков.\n",
    "\n",
    "Берем непрерывную величину времени нахождения на площадке, непрерывную величину возраст, категориальную величину Позиция и дискретную величину Количество набранных очков.\n",
    "\n",
    "Buble chart в данном случае позволяет отразить сразу три показателя, а также зависимость между двумя из них."
   ]
  },
  {
   "cell_type": "code",
   "execution_count": null,
   "metadata": {
    "collapsed": false
   },
   "outputs": [],
   "source": [
    "from plotly.offline import init_notebook_mode, iplot\n",
    "import plotly\n",
    "import plotly.graph_objs as go\n",
    "\n",
    "init_notebook_mode(connected=True)"
   ]
  },
  {
   "cell_type": "code",
   "execution_count": null,
   "metadata": {
    "collapsed": false
   },
   "outputs": [],
   "source": [
    "age_mp_position = data_set.groupby('pos')[['age', 'mp']].mean()\n",
    "scores_position = data_set.groupby('pos')[['pts']].sum()\n",
    "\n",
    "position_data = age_mp_position.join(scores_position)\n",
    "\n",
    "position_data.head(7)\n",
    "    \n"
   ]
  },
  {
   "cell_type": "code",
   "execution_count": null,
   "metadata": {
    "collapsed": false,
    "scrolled": true
   },
   "outputs": [],
   "source": [
    "trace0 = go.Scatter(x=position_data.age, y=position_data.mp, mode = 'markers+text', text = position_data.index,\n",
    "         textposition='bottom', marker = dict(size = 1/1000 * position_data.pts, color = ['aqua', 'azure', 'beige',\n",
    "         'lightgreen', 'lavender', 'plum', 'wheat']))\n",
    "\n",
    "data = [trace0]\n",
    "layout = {'title': 'Players statistics by position', 'xaxis': {'title': 'Age'}, 'yaxis': {'title': 'Minutes played'}}\n",
    "\n",
    "fig = go.Figure(data=data, layout=layout)\n",
    "\n",
    "iplot(fig, show_link=False)"
   ]
  },
  {
   "cell_type": "markdown",
   "metadata": {},
   "source": [
    "###### (4) Построим Pie Chart для визуализации доли позиции игрока каждого вида в общей массе игроков лиги\n",
    "Использовадись категориальная переменная pos (Наименование позиции) и категориальная переменная player (Имя/Фамилия игрока).\n",
    "\n",
    "Думаю, что для визуализации долевой струтуры при небольшом наборе категорий Pie Chart подходит наилучшим образом.  "
   ]
  },
  {
   "cell_type": "code",
   "execution_count": null,
   "metadata": {
    "collapsed": false
   },
   "outputs": [],
   "source": [
    "team_members = data_set.groupby(['pos'])[['player']].count()"
   ]
  },
  {
   "cell_type": "code",
   "execution_count": null,
   "metadata": {
    "collapsed": false,
    "scrolled": true
   },
   "outputs": [],
   "source": [
    "team_members.head(10)"
   ]
  },
  {
   "cell_type": "code",
   "execution_count": null,
   "metadata": {
    "collapsed": true
   },
   "outputs": [],
   "source": [
    "labels = team_members.index.tolist()\n",
    "values = team_members.player.tolist()"
   ]
  },
  {
   "cell_type": "code",
   "execution_count": null,
   "metadata": {
    "collapsed": false
   },
   "outputs": [],
   "source": [
    "trace = go.Pie(labels=labels, values=values)\n",
    "\n",
    "iplot([trace], filename='basic_pie_chart')"
   ]
  },
  {
   "cell_type": "markdown",
   "metadata": {},
   "source": [
    "###### (5) Построим горизонтальный Bar Chart для визуализации суммы нбранных каждой команды на фоне других.\n",
    "\n",
    "Берем категориальную переменную Наименование команды и дискретную величину Количество набранных очков.\n",
    "\n",
    "В данном случае Bar Chart позволяет наглядно отразить визуальное сравнение сравнительно большоко числа категорий по определенному параметру."
   ]
  },
  {
   "cell_type": "code",
   "execution_count": null,
   "metadata": {
    "collapsed": true
   },
   "outputs": [],
   "source": [
    "scores_team = data_set.groupby('bref_team_id')[['pts']].sum()"
   ]
  },
  {
   "cell_type": "code",
   "execution_count": null,
   "metadata": {
    "collapsed": false
   },
   "outputs": [],
   "source": [
    "trace_1 = go.Bar(x=scores_team.pts, y=scores_team.index, orientation = 'h')\n",
    "\n",
    "data = [trace_1]\n",
    "layout = {'title': 'Scores by team name', 'xaxis': {'title': 'Pts'}, 'yaxis': {'title': 'Team name'}}\n",
    "\n",
    "fig = go.Figure(data=data, layout=layout)\n",
    "\n",
    "iplot(fig, show_link=False)"
   ]
  },
  {
   "cell_type": "code",
   "execution_count": null,
   "metadata": {
    "collapsed": true
   },
   "outputs": [],
   "source": []
  }
 ],
 "metadata": {
  "kernelspec": {
   "display_name": "Python 3",
   "language": "python",
   "name": "python3"
  },
  "language_info": {
   "codemirror_mode": {
    "name": "ipython",
    "version": 3
   },
   "file_extension": ".py",
   "mimetype": "text/x-python",
   "name": "python",
   "nbconvert_exporter": "python",
   "pygments_lexer": "ipython3",
   "version": "3.6.0"
  }
 },
 "nbformat": 4,
 "nbformat_minor": 2
}
